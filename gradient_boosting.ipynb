{
 "cells": [
  {
   "cell_type": "markdown",
   "metadata": {},
   "source": [
    "$$L = MSE = \\sum_{i=1}^{n}(y^{(i)} - y_{err}^{(i)})$$\n",
    "\n",
    "$$\\gamma = \\arg \\min_{\\gamma} \\sum_{i=1}^{n} L (y_i, F_{m-1}(x_i) + \\gamma_m h_m(x))$$\n",
    "\n",
    "чтобы найти минимум, приравняем $y$ и $F_{m-1}(x) + \\gamma_m h_m(x)$\n",
    "\n",
    "$$y = F_{m-1}(x) + \\gamma_m h_m(x)$$\n",
    "\n",
    "$$\\gamma_m h_m(x) = y - F_{m-1}(x)$$\n",
    "\n",
    "$$\\gamma_m = {{y - F_{m-1}(x)} \\over {h_m(x)}}$$"
   ]
  },
  {
   "cell_type": "code",
   "execution_count": 220,
   "metadata": {},
   "outputs": [],
   "source": [
    "from sklearn.tree import DecisionTreeRegressor\n",
    "from sklearn import clone\n",
    "from sklearn.metrics import r2_score\n",
    "from sklearn.base import BaseEstimator, RegressorMixin\n",
    "from sklearn .externals import six\n",
    "\n",
    "%matplotlib inline\n",
    "import matplotlib.pyplot as plt\n",
    "from mpl_toolkits.mplot3d import Axes3D\n",
    "\n",
    "from sklearn.model_selection import train_test_split\n",
    "\n",
    "from copy import copy\n",
    "\n",
    "import ipywidgets as widgets\n",
    "from ipywidgets import interact\n",
    "\n",
    "\n",
    "class ConstDummyEstimator:\n",
    "    def __init__(self, const):\n",
    "        self.const = np.array(const)\n",
    "    \n",
    "    def fit(self, X, y):\n",
    "        \"\"\n",
    "        \n",
    "    def predict(self, X):\n",
    "        return np.repeat(self.const, X.shape[0], axis=0)\n",
    "\n",
    "\n",
    "class NewGradientBoost(BaseEstimator, RegressorMixin):\n",
    "    def __init__(self, M=10, eta=1):\n",
    "        self.M = M\n",
    "        self.eta = eta\n",
    "        \n",
    "    def fit(self, X: np.ndarray, y: np.ndarray, visualize=False):\n",
    "        \n",
    "        if visualize:\n",
    "            fig, ax = plt.subplots(self.M, 2, figsize=(10, 5 * self.M))\n",
    "        \n",
    "        # init with a mean (argmin of MSE)\n",
    "        self.models_ = [ConstDummyEstimator(y.mean())]\n",
    "        prev_pred = self.models_[0].predict(X).reshape(y.shape)\n",
    "        self.gammas_ = [1]\n",
    "        \n",
    "        for i in range(self.M):\n",
    "            ri = y - prev_pred\n",
    "            \n",
    "            if visualize:\n",
    "                ax[i, 1].scatter(X, ri)\n",
    "                ax[i, 1].set_ylim(-2, 2)\n",
    "                ax[i, 1].plot([0, X.max()], [0, 0], c='k', linestyle='--')\n",
    "            \n",
    "            h = DecisionTreeRegressor(max_depth=1)\n",
    "            \n",
    "            h.fit(X, ri)\n",
    "            \n",
    "            grad = h.predict(X)\n",
    "            \n",
    "            grad = grad.reshape(y.shape)\n",
    "            \n",
    "            # gamma = (y / (prev_pred + grad)).mean()\n",
    "            gamma = (ri / grad).mean()\n",
    "            # gamma = (ri / grad)\n",
    "            self.gammas_.append(gamma)\n",
    "            \n",
    "            # prev_pred += self.eta * grad\n",
    "            hmgamma = gamma * grad\n",
    "            hmgamma *= self.eta\n",
    "            \n",
    "            prev_pred += hmgamma\n",
    "            \n",
    "            if visualize:\n",
    "                ax[i, 0].scatter(X, y, s=35)\n",
    "                ax[i, 0].scatter(X, prev_pred, c='r')\n",
    "            \n",
    "            self.models_.append(h)\n",
    "        \n",
    "    def predict(self, X):\n",
    "        prediction = self.models_[0].predict(X)\n",
    "        \n",
    "        for g, m in zip(self.gammas_[1:], self.models_[1:]):\n",
    "            unscaled_pred = m.predict(X).reshape(prediction.shape)\n",
    "            unscaled_pred *= g\n",
    "            unscaled_pred *= self.eta\n",
    "            \n",
    "            prediction += unscaled_pred\n",
    "            \n",
    "        return prediction\n",
    "    \n",
    "    def get_params(self, deep=True):\n",
    "        params = super(NewGradientBoost, self).get_params(deep=False)\n",
    "        \n",
    "        \n",
    "        return params\n",
    "        \n",
    "    def score(self, X, y):\n",
    "        # R2\n",
    "        return r2_score(y, self.predict(X))"
   ]
  },
  {
   "cell_type": "code",
   "execution_count": 221,
   "metadata": {},
   "outputs": [
    {
     "name": "stdout",
     "output_type": "stream",
     "text": [
      "[1, 1.0, 0.9999999999999998, 1.0000000000000004, 0.9999999999999998, 1.0000000000000002, 1.0000000000000002, 1.0, 1.0, 1.0000000000000004, 1.0000000000000004, 0.9999999999999989, 1.0, 1.0, 0.9999999999999998, 1.0000000000000004]\n"
     ]
    },
    {
     "data": {
      "image/png": "[encoded data removed]",
      "text/plain": [
       "<Figure size 432x288 with 1 Axes>"
      ]
     },
     "metadata": {
      "needs_background": "light"
     },
     "output_type": "display_data"
    }
   ],
   "source": [
    "np.random.seed(0)\n",
    "\n",
    "X = np.linspace(0, 10, 100)\n",
    "y = np.cos(X)\n",
    "y_denoised = copy(y) + 1\n",
    "\n",
    "noise = np.random.normal(1, 0.5, (y.shape))\n",
    "y += noise\n",
    "\n",
    "X_train, X_test, y_train, y_test = train_test_split(X, y)\n",
    "\n",
    "steps=15\n",
    "\n",
    "wha = NewGradientBoost(M=steps, eta=1)\n",
    "t = DecisionTreeRegressor(max_depth=steps)\n",
    "\n",
    "wha.fit(X_train.reshape(-1, 1), y_train, visualize=False)\n",
    "t.fit(X_train.reshape(-1, 1), y_train);\n",
    "\n",
    "plt.plot(X, wha.predict(X.reshape(-1, 1)), label='NewGradBoost');\n",
    "plt.plot(X, t.predict(X.reshape(-1, 1)), label='DecisionTree');\n",
    "plt.plot(X, y_denoised, c='k', linestyle='--', linewidth=0.5, label='original')\n",
    "plt.legend();\n",
    "\n",
    "print(wha.gammas_)"
   ]
  },
  {
   "cell_type": "code",
   "execution_count": 222,
   "metadata": {},
   "outputs": [
    {
     "data": {
      "application/vnd.jupyter.widget-view+json": {
       "model_id": "c7b69d9d3f1b47ee9c8eb53f5d66ff59",
       "version_major": 2,
       "version_minor": 0
      },
      "text/plain": [
       "interactive(children=(FloatSlider(value=17.0, description='elev', max=90.0, step=1.0), FloatSlider(value=10.0,…"
      ]
     },
     "metadata": {},
     "output_type": "display_data"
    }
   ],
   "source": [
    "np.random.seed(0)\n",
    "\n",
    "X_v = np.linspace(0, 1, 100)\n",
    "Y_v = np.linspace(0, 1, 100)\n",
    "\n",
    "Z_v = (X_v + (Y_v + 2) * 2) ** 3\n",
    "\n",
    "X = np.array((X_v, Y_v)).reshape(-1, 2)\n",
    "\n",
    "y = Z_v\n",
    "\n",
    "noise = np.random.normal(0, 0.5, (y.shape))\n",
    "y_denoised = copy(y)\n",
    "y += noise\n",
    "\n",
    "X = np.concatenate((X_v.reshape(-1, 1), Y_v.reshape(-1, 1)), axis=1)\n",
    "\n",
    "X_train, X_test, y_train, y_test = train_test_split(X, y)\n",
    "\n",
    "\n",
    "\n",
    "\n",
    "elev_slider = widgets.FloatSlider(value=17, min=0, max=90, step=1)\n",
    "azim_slider = widgets.FloatSlider(value=10, min=0, max=90, step=1)\n",
    "\n",
    "eta_slider = widgets.FloatSlider(value=1, min=0, max=2, step=0.1)\n",
    "m_slider = widgets.IntSlider(value=15, min=0, max=30)\n",
    "\n",
    "\n",
    "bass = None\n",
    "drop = None\n",
    "\n",
    "prev_steps = None\n",
    "prev_eta = None\n",
    "\n",
    "def redraw(elev=0, azim=0, steps=15, eta=1):\n",
    "    global bass\n",
    "    global drop\n",
    "    global prev_steps\n",
    "    global prev_eta\n",
    "    \n",
    "    # refitting\n",
    "    if steps != prev_steps or eta != prev_eta:\n",
    "        prev_eta = eta\n",
    "        prev_steps = steps\n",
    "        \n",
    "        bass = NewGradientBoost(M=prev_steps, eta=eta)\n",
    "        drop = DecisionTreeRegressor(max_depth=prev_steps or 1)\n",
    "        \n",
    "        bass.fit(X_train, y_train)\n",
    "        drop.fit(X_train, y_train)\n",
    "        \n",
    "\n",
    "    fig = plt.figure(figsize=(12, 12))\n",
    "    ax = fig.add_subplot(111, projection='3d')\n",
    "\n",
    "\n",
    "    ax.plot(X_v, Y_v, y_denoised, c='k', linestyle='--');\n",
    "    ax.plot(X_v, Y_v, np.zeros(y_denoised.shape), c='k', linewidth=0.5)\n",
    "    ax.plot(X_v, np.zeros(Y_v.shape), y_denoised, c='k', linewidth=0.5)\n",
    "    ax.plot(np.zeros(X_v.shape), Y_v, y_denoised, c='k', linewidth=0.5)\n",
    "    \n",
    "    ax.plot(X[:, 0], X[:, 1], bass.predict(X), c='r');\n",
    "    ax.plot(X[:, 0], X[:, 1], np.zeros(bass.predict(X).shape), c='g', linewidth=0.3, alpha=0.5)\n",
    "    ax.plot(X[:, 0], np.zeros(X[:, 1].shape), bass.predict(X), c='g', linewidth=0.5)\n",
    "    ax.plot(np.zeros(X[:, 0].shape), X[:, 1], bass.predict(X), c='g', linewidth=0.5)\n",
    "\n",
    "    ax.plot(X[:, 0], X[:, 1], drop.predict(X), c='orange');\n",
    "    ax.plot(X[:, 0], X[:, 1], np.zeros(drop.predict(X).shape), c='y', linewidth=0.3, alpha=0.5)\n",
    "    ax.plot(X[:, 0], np.zeros(X[:, 1].shape), drop.predict(X), c='y', linewidth=0.3)\n",
    "    ax.plot(np.zeros(X[:, 0].shape), X[:, 1], drop.predict(X), c='y', linewidth=0.3)\n",
    "    \n",
    "    ax.view_init(elev=elev, azim=azim)\n",
    "    \n",
    "interact(redraw, elev=elev_slider, azim=azim_slider, steps=m_slider, eta=eta_slider);"
   ]
  },
  {
   "cell_type": "code",
   "execution_count": 208,
   "metadata": {},
   "outputs": [
    {
     "name": "stdout",
     "output_type": "stream",
     "text": [
      "[1, 0.9999999999999998, 0.9999999999999997, 0.9999999999999998, 0.9999999999999998, 1.0, 1.0000000000000004, 1.0, 0.9999999999999997, 1.0, 1.0000000000000004, 1.0, 1.0, 1.0, 0.9999999999999997, 1.0, 1.0000000000000002, 1.0, 1.0, 0.9999999999999998, 0.9999999999999994, 1.0, 1.0000000000000004, 1.0, 1.0000000000000002, 1.0, 1.0, 1.0000000000000004, 0.9999999999999998, 1.0000000000000007, 1.0]\n"
     ]
    }
   ],
   "source": [
    "print(bass.gammas_)"
   ]
  },
  {
   "cell_type": "code",
   "execution_count": null,
   "metadata": {},
   "outputs": [],
   "source": []
  }
 ],
 "metadata": {
  "kernelspec": {
   "display_name": "Python 3",
   "language": "python",
   "name": "python3"
  },
  "language_info": {
   "codemirror_mode": {
    "name": "ipython",
    "version": 3
   },
   "file_extension": ".py",
   "mimetype": "text/x-python",
   "name": "python",
   "nbconvert_exporter": "python",
   "pygments_lexer": "ipython3",
   "version": "3.7.4"
  }
 },
 "nbformat": 4,
 "nbformat_minor": 2
}
